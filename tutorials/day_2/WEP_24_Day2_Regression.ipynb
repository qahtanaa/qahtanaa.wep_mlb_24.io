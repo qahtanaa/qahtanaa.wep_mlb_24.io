{
 "cells": [
  {
   "cell_type": "markdown",
   "metadata": {},
   "source": [
    "# WEP24-MLB: Regression and demand forecasting"
   ]
  },
  {
   "cell_type": "markdown",
   "metadata": {},
   "source": [
    "Regression is is used for making predictions about real-world quantities (continuous values). For example, we want to predict the effects of changes in the price on the sales volume. Another example is studying how the sales volume of a given restaurant is affected by the weather? In the tasks when the variable to be predicted is coninuous, we use regression techniques. In this tutorial, we will focus on linear regression. We will start by importing the required libraries. "
   ]
  },
  {
   "cell_type": "code",
   "execution_count": null,
   "metadata": {},
   "outputs": [],
   "source": [
    "import pandas as pd\n",
    "import numpy as np\n",
    "import csv\n",
    "import math\n",
    "from sklearn import linear_model\n",
    "from sklearn.linear_model import LinearRegression\n",
    "from sklearn import metrics\n",
    "from sklearn import datasets\n",
    "import matplotlib\n",
    "import matplotlib.pyplot as plt\n",
    "from sklearn.model_selection import train_test_split"
   ]
  },
  {
   "cell_type": "markdown",
   "metadata": {},
   "source": [
    "Let us check the example from the slides. We will start by estimating the parameters as we did in the slides and compare the estimated prameters with those that are estimated using the `LinearRegression` class from Scikit Learn. "
   ]
  },
  {
   "cell_type": "code",
   "execution_count": null,
   "metadata": {},
   "outputs": [],
   "source": [
    "'''\n",
    "TODO: Use the formula from the slides to compute the paramters of the linear regression model\n",
    "w0 , w1 (in the slides) represent the intercept and coef, respectively\n",
    "'''\n",
    "x = [1, 2, 2.5, 2, 4, 4, 4, 4.5, 4.7, 5, 5, 6, 6, 7]\n",
    "y = [7, 4, 9, 8, 9, 8, 9, 7, 11, 11, 10, 13, 14, 13]\n",
    "x_mean = \n",
    "y_mean = \n",
    "\n",
    "x_diff = \n",
    "y_diff = \n",
    "\n",
    "coef = \n",
    "intercept = \n",
    "intercept , coef"
   ]
  },
  {
   "cell_type": "code",
   "execution_count": null,
   "metadata": {},
   "outputs": [],
   "source": [
    "'''\n",
    "TODO: Use the `LinearRegression` class to estimate the parameters and compare the results\n",
    "'''\n"
   ]
  },
  {
   "cell_type": "markdown",
   "metadata": {},
   "source": [
    "## Real example\n",
    "Let us apply the cioncepts on real-world data such as the [diabetes data](https://github.com/semerj/NHANES-diabetes/tree/master/data/diabetes_data_train.csv). We start by downloading the data, uploading it on Google Colab and reading it"
   ]
  },
  {
   "cell_type": "code",
   "execution_count": null,
   "metadata": {},
   "outputs": [],
   "source": [
    "df_diabetes = pd.read_csv('sample_data/diabetes_data_train.csv')\n",
    "df_diabetes"
   ]
  },
  {
   "cell_type": "code",
   "execution_count": null,
   "metadata": {},
   "outputs": [],
   "source": [
    "''' \n",
    "TODO: the column status represents the classes of the records, check how many classes do we have\n",
    "'''\n",
    "df_diabetes.status.unique()"
   ]
  },
  {
   "cell_type": "code",
   "execution_count": null,
   "metadata": {},
   "outputs": [],
   "source": [
    "'''\n",
    "TODO: check the correlation between the attributes to see if there are two attributes that are highly correlated\n",
    "'''\n",
    "corr_mat = df_diabetes.corr()\n",
    "corr_mat"
   ]
  },
  {
   "cell_type": "code",
   "execution_count": null,
   "metadata": {},
   "outputs": [],
   "source": [
    "'''\n",
    "TODO: use a scatter plot to plot the attributes that are highly correlated \n",
    "'''\n",
    "font_size = 16               # you can use the size that would be readable easily\n",
    "plt.rcParams.update({'font.size': font_size})\n",
    "fig, ax = plt.subplots(figsize=(6,6))\n",
    "..."
   ]
  },
  {
   "cell_type": "markdown",
   "metadata": {},
   "source": [
    "Use these two feature in the following exercises "
   ]
  },
  {
   "cell_type": "code",
   "execution_count": null,
   "metadata": {},
   "outputs": [],
   "source": [
    "'''\n",
    "TODO: fit a linear regression model on the data \n",
    "'''\n",
    "feat1 = \n",
    "feat2 = \n",
    "\n",
    "x = np.array(feat1).reshape(-1,1)\n",
    "y = np.array(feat2).reshape(-1,1)\n",
    "mdl = LinearRegression()\n",
    "mdl.fit(x, y)\n",
    "\n",
    "fig, ax = plt.subplots(figsize=(6,6))\n",
    "plt.plot(x,y, \"o\");\n",
    "te = np.arange(min(x),max(x)+4).reshape(-1,1)\n",
    "plt.plot(te, mdl.predict(te), 'r')\n",
    "\n",
    "\n",
    "\n",
    "plt.xlabel(\"..... \")\n",
    "plt.ylabel(\"..... \")\n",
    "\n",
    "y_hat = mdl.predict(x)\n",
    "MAE = round(np.mean(np.abs(y - y_hat)),2)\n",
    "MAE\n",
    "\n",
    "ax.text(125, 70, \"MAE = \" + str(MAE), style='italic',\n",
    "       bbox={'facecolor': 'red', 'alpha': 0.5, 'pad': 10})\n",
    "# plt.title(\"MAE = \" + str(MAE))\n",
    "plt.savefig('linear.pdf', bbox_inches = 'tight')"
   ]
  },
  {
   "cell_type": "code",
   "execution_count": null,
   "metadata": {},
   "outputs": [],
   "source": [
    "'''\n",
    "TODO: display the intercept and the coefficient of the linear model\n",
    "'''\n"
   ]
  },
  {
   "cell_type": "code",
   "execution_count": null,
   "metadata": {},
   "outputs": [],
   "source": [
    "'''\n",
    "TODO: modify the intercept and the coefficient slightley and plot the new model with the old one\n",
    "'''\n",
    "...\n",
    "...\n",
    "\n",
    "fig, ax = plt.subplots(figsize=(6,6))\n",
    "plt.plot(x,y, \"o\");\n",
    "te = np.arange(min(x),max(x)+4).reshape(-1,1)\n",
    "plt.plot(te, mdl.predict(te), 'r')\n",
    "\n",
    "\n",
    "\n",
    "plt.xlabel(\"..... \")\n",
    "plt.ylabel(\"..... \")\n",
    "\n",
    "y_hat2 = mdl.predict(x)\n",
    "MAE = round(np.mean(np.abs(y - y_hat2)),2)\n",
    "MAE\n",
    "\n",
    "ax.text(125, 70, \"MAE = \" + str(MAE), style='italic',\n",
    "       bbox={'facecolor': 'red', 'alpha': 0.5, 'pad': 10})\n",
    "# plt.title(\"MAE = \" + str(MAE))\n",
    "# plt.savefig('linear.pdf', bbox_inches = 'tight')\n"
   ]
  },
  {
   "cell_type": "code",
   "execution_count": null,
   "metadata": {},
   "outputs": [],
   "source": [
    "''' \n",
    "TODO: fit a polynomail regression model with degree 3 on the data \n",
    "Use the numpy model: np.poly1d(np.polyfit(x, y, 3))\n",
    "'''\n"
   ]
  },
  {
   "cell_type": "code",
   "execution_count": null,
   "metadata": {},
   "outputs": [],
   "source": [
    "'''\n",
    "TODO: fit a polynomail regression model with degree 7 on the data \n",
    "'''\n"
   ]
  },
  {
   "cell_type": "markdown",
   "metadata": {},
   "source": [
    "We do the same exercise on a sample of the data"
   ]
  },
  {
   "cell_type": "code",
   "execution_count": null,
   "metadata": {},
   "outputs": [],
   "source": [
    "fig, ax = plt.subplots(figsize=(5,5))\n",
    "\n",
    "sample = df.sample(n = 20)\n",
    "x_sam = sample[...]\n",
    "y_sam = sample[...]\n",
    "ax.scatter(x_sam, y_sam)\n",
    "plt.show()"
   ]
  },
  {
   "cell_type": "code",
   "execution_count": null,
   "metadata": {},
   "outputs": [],
   "source": [
    "'''\n",
    "TODO: fit the three models using the sample this time\n",
    "'''\n"
   ]
  },
  {
   "cell_type": "code",
   "execution_count": null,
   "metadata": {},
   "outputs": [],
   "source": [
    "'''\n",
    "TODO: Let's split the sample data into two subsets train, test\n",
    "Documentation can be found at \n",
    "https://scikit-learn.org/stable/modules/generated/sklearn.model_selection.train_test_split.html\n",
    "'''\n",
    "X_train, X_test, y_train, y_test = train_test_split(x_sam, y_sam, test_size=0.25)\n"
   ]
  },
  {
   "cell_type": "code",
   "execution_count": null,
   "metadata": {},
   "outputs": [],
   "source": [
    "'''\n",
    "TODO: fit the three models on the train set and use them to predict the values in the test set\n",
    "Compute the Mean Absolute Error on the test set\n",
    "'''\n"
   ]
  },
  {
   "cell_type": "markdown",
   "metadata": {},
   "source": [
    "## Demand Forecasting\n",
    "\n",
    "We will start with the example from the slides. \n",
    "\n",
    "#### 1. Naïve Forecasting"
   ]
  },
  {
   "cell_type": "code",
   "execution_count": null,
   "metadata": {},
   "outputs": [],
   "source": [
    "data = [122, 91, 100, 77, 115, 58, 75, 128, 111, 88]\n",
    "predictionsNF = {}\n",
    "for item in range(1,len(data)+1):    \n",
    "    predNF = data[item - 1]\n",
    "    predictionsNF.update({item + 1:predNF})\n",
    "predictionsNF"
   ]
  },
  {
   "cell_type": "markdown",
   "metadata": {},
   "source": [
    "#### 2. Simple Average"
   ]
  },
  {
   "cell_type": "code",
   "execution_count": null,
   "metadata": {},
   "outputs": [],
   "source": [
    "'''\n",
    "The predicted value at time t_n is the average of the values t_0, t_1, ..., t_n-1\n",
    "'''\n",
    "predictionsSA = {}\n",
    "'''\n",
    "TODO: predict the values in the example on the slides -- Do you see any differences?\n",
    "'''\n",
    "predictionsSA"
   ]
  },
  {
   "cell_type": "markdown",
   "metadata": {},
   "source": [
    "#### 3. Moving Average"
   ]
  },
  {
   "cell_type": "code",
   "execution_count": null,
   "metadata": {},
   "outputs": [],
   "source": [
    "'''\n",
    "Moving Average (MA) -- k = 3\n",
    "\n",
    "The predicted value at time t_n is the average of the values t_n-3, t_n-2, t_n-1\n",
    "'''\n",
    "\n",
    "k = 3\n",
    "predictionsMA = {}\n",
    "'''\n",
    "TODO: predict the values in the example on the slides -- Do you see any differences?\n",
    "'''\n",
    "predictionsMA"
   ]
  },
  {
   "cell_type": "markdown",
   "metadata": {},
   "source": [
    "#### 4. Weighted Moving Average"
   ]
  },
  {
   "cell_type": "code",
   "execution_count": null,
   "metadata": {},
   "outputs": [],
   "source": [
    "'''\n",
    "Weighted Moving Average (WMA) -- k = 3\n",
    "\n",
    "The predicted value at time t_n is: c_3 * t_n-3 + c_2 * t_n-2 + c_1 * t_n-1\n",
    "We should have c_3 + c_2 + c_1 = 1\n",
    "'''\n",
    "\n",
    "predictionsWMA = {}\n",
    "k = 3\n",
    "w = np.array([0.2,0.3,0.5])\n",
    "'''\n",
    "TODO: predict the values in the example on the slides -- Do you see any differences?\n",
    "'''\n",
    "predictionsWMA"
   ]
  },
  {
   "cell_type": "markdown",
   "metadata": {},
   "source": [
    "#### 5. Weighted Moving Average"
   ]
  },
  {
   "cell_type": "code",
   "execution_count": null,
   "metadata": {},
   "outputs": [],
   "source": [
    "'''\n",
    "Exponential Smoothing (ES -- alpha = 0.5) \n",
    "\n",
    "The predicted value at time t_n is the sum of the history multiplied by (1-alpha) \n",
    "and the most recent value multiplied by alpha\n",
    "'''\n",
    "history = 0.0\n",
    "alpha = 0.5\n",
    "predictionsES = {}\n",
    "'''\n",
    "TODO: predict the values in the example on the slides -- Do you see any differences?\n",
    "'''\n",
    "predictionsES"
   ]
  },
  {
   "cell_type": "markdown",
   "metadata": {},
   "source": [
    "#### 6. Linear Regression"
   ]
  },
  {
   "cell_type": "code",
   "execution_count": null,
   "metadata": {},
   "outputs": [],
   "source": [
    "'''\n",
    "We learn a linear regression by estimating its parameters from the data.\n",
    "We can use the learned model for predicting the future values\n",
    "'''\n",
    "xr = range(len(data))\n",
    "matplotlib.rcParams.update({'font.size': 18})\n",
    "plt.plot(xr, data)\n",
    "x = np.array(xr).reshape(-1,1)\n",
    "y = np.array(data).reshape(-1,1)\n",
    "'''\n",
    "TODO: fit a linear regression model and plot it with the data values\n",
    "'''\n",
    "\n",
    "test = np.array([11]).reshape(-1,1)\n",
    "test_hat = mdl.predict(test)\n",
    "print(test, ':', int(round(test_hat[0,0])))\n",
    "plt.show"
   ]
  },
  {
   "cell_type": "markdown",
   "metadata": {},
   "source": [
    "### Real-World Example"
   ]
  },
  {
   "cell_type": "markdown",
   "metadata": {},
   "source": [
    "1- we read a time series from csv file, we use the [oil price](https://www.kaggle.com/c/store-sales-time-series-forecasting/data) data"
   ]
  },
  {
   "cell_type": "code",
   "execution_count": null,
   "metadata": {},
   "outputs": [],
   "source": [
    "df_oil = pd.read_csv('sample_data/oil.csv', header = 0,\n",
    "                 quotechar='\"',sep=\",\",\n",
    "                 na_values = ['na', '-', '.', ''], low_memory=False)"
   ]
  },
  {
   "cell_type": "markdown",
   "metadata": {},
   "source": [
    "2- We take a look at the data by plotting the whole data"
   ]
  },
  {
   "cell_type": "code",
   "execution_count": null,
   "metadata": {},
   "outputs": [],
   "source": [
    "plt.rcParams.update({'font.size': 16})\n",
    "fig, ax = plt.subplots()\n",
    "start = 0\n",
    "limit = len(df_oil)\n",
    "end = start + limit - 1\n",
    "ax.plot(df_oil.date[start:end], df_oil.dcoilwtico[start:end], '-')\n",
    "\n",
    "x = [df_oil.date.iloc[start], df_oil.date.iloc[start + math.floor(limit / 4)], \\\n",
    "     df_oil.date.iloc[start + math.floor(limit / 2)], df_oil.date.iloc[start + math.floor(3 * limit / 4)], \\\n",
    "     df_oil.date.iloc[end]]\n",
    "\n",
    "ax.set_xticks(x)\n",
    "plt.xticks(rotation = 45)\n",
    "ax.set(xlabel='Date', ylabel='Oil Price')\n"
   ]
  },
  {
   "cell_type": "markdown",
   "metadata": {},
   "source": [
    "3- We cannot see a lot of details, let's consider a smaller period"
   ]
  },
  {
   "cell_type": "code",
   "execution_count": null,
   "metadata": {},
   "outputs": [],
   "source": [
    "plt.rcParams.update({'font.size': 16})\n",
    "fig, ax = plt.subplots()\n",
    "start = 300\n",
    "limit = 300\n",
    "end = start + limit - 1\n",
    "ax.plot(df_oil.date[start:end], df_oil.dcoilwtico[start:end], '-')\n",
    "\n",
    "\n",
    "x = [df_oil.date.iloc[start], df_oil.date.iloc[start + math.floor(limit / 4)], \\\n",
    "     df_oil.date.iloc[start + math.floor(limit / 2)], df_oil.date.iloc[start + math.floor(3 * limit / 4)], \\\n",
    "     df_oil.date.iloc[end]]\n",
    "\n",
    "ax.set_xticks(x)\n",
    "plt.xticks(rotation = 45)\n",
    "ax.set(xlabel='Date', ylabel='Oil Price')\n"
   ]
  },
  {
   "cell_type": "markdown",
   "metadata": {},
   "source": [
    "4- We fill the missing values and use moving average to smooth the data"
   ]
  },
  {
   "cell_type": "code",
   "execution_count": null,
   "metadata": {},
   "outputs": [],
   "source": [
    "# This time, fill the missing values with the closest existing value.\n",
    "df_oil_new = df_oil.copy()\n",
    "\n",
    "while df_oil_new[\"dcoilwtico\"].isnull().any():\n",
    "    df_oil_new = df_oil_new.fillna(method='pad', limit=1)\n",
    "    df_oil_new = df_oil_new.fillna(method='bfill', limit=1)\n",
    "\n",
    "ma_win_size = 50\n",
    "df_oil_new['dcoilwtico'] = df_oil_new['dcoilwtico'].rolling(window = ma_win_size).mean()\n",
    "\n",
    "start = ma_win_size + 10\n",
    "limit = len(df_oil_new) - ma_win_size\n",
    "end = start + limit - 11\n",
    "\n",
    "fig, ax = plt.subplots()\n",
    "\n",
    "ax.plot(df_oil_new.date[start:end], df_oil_new.dcoilwtico[start:end], '-')\n",
    "x = [df_oil_new.date.iloc[start], df_oil_new.date.iloc[start + math.floor(limit / 4)], \\\n",
    "     df_oil_new.date.iloc[start + math.floor(limit / 2)], df_oil_new.date.iloc[start + math.floor(3 * limit / 4)], \\\n",
    "     df_oil_new.date.iloc[end]]\n",
    "ax.set_xticks(x)\n",
    "plt.xticks(rotation = 45)\n",
    "ax.set(xlabel='Date', ylabel='Oil Price')\n"
   ]
  },
  {
   "cell_type": "code",
   "execution_count": null,
   "metadata": {},
   "outputs": [],
   "source": [
    "# Let's read the data again\n",
    "df_oil_FC = pd.read_csv('sample_data/oil.csv', header = 0,\n",
    "                 quotechar='\"',sep=\",\",\n",
    "                 na_values = ['na', '-', '.', ''], low_memory=False)"
   ]
  },
  {
   "cell_type": "markdown",
   "metadata": {},
   "source": [
    "Since, in demand forecasting, we deal with time series, we remove the last two weeks of the data and store it as test data"
   ]
  },
  {
   "cell_type": "code",
   "execution_count": null,
   "metadata": {},
   "outputs": [],
   "source": [
    "\n",
    "while df_oil_FC[\"dcoilwtico\"].isnull().any():\n",
    "    df_oil_FC = df_oil_FC.fillna(method='pad', limit=1)\n",
    "    df_oil_FC = df_oil_FC.fillna(method='bfill', limit=1)\n",
    "idx = df_oil_FC.index[df_oil_FC.date == '2017-08-16'].tolist()\n",
    "train = df_oil_FC.iloc[0:idx[0]]\n",
    "test = df_oil_FC.iloc[idx[0]:len(df_oil_FC)]\n",
    "test"
   ]
  },
  {
   "cell_type": "markdown",
   "metadata": {},
   "source": [
    "#### Perform demand forecasting using moving average"
   ]
  },
  {
   "cell_type": "code",
   "execution_count": null,
   "metadata": {},
   "outputs": [],
   "source": [
    "k = 5\n",
    "start = len(train) - k\n",
    "end = len(train)\n",
    "new_list = train.dcoilwtico.iloc[start:end].tolist()\n",
    "# last = new_list.index\n",
    "\n",
    "for item in test.date:\n",
    "    windowMA = round(np.mean(new_list[-k:]), 2)\n",
    "    new_list.append(windowMA)\n",
    "new_list[-12:]"
   ]
  },
  {
   "cell_type": "code",
   "execution_count": null,
   "metadata": {},
   "outputs": [],
   "source": [
    "# Show the actual price for the test data\n",
    "test.dcoilwtico"
   ]
  },
  {
   "cell_type": "code",
   "execution_count": null,
   "metadata": {},
   "outputs": [],
   "source": [
    "# Compute the means squared error\n",
    "t = len(test)\n",
    "MSE = np.mean((new_list[-t:] - test.dcoilwtico)**2)\n",
    "MSE"
   ]
  },
  {
   "cell_type": "markdown",
   "metadata": {},
   "source": [
    "#### Perform demand forecasting using Linear Regression"
   ]
  },
  {
   "cell_type": "code",
   "execution_count": null,
   "metadata": {},
   "outputs": [],
   "source": [
    "# We train the model using the last 11 samples from the time series\n",
    "\n",
    "train = train[-11:]\n",
    "train.reset_index(drop=True, inplace=True)\n",
    "offset = math.floor(len(train) / 2)\n",
    "train['x'] = train.index - offset\n",
    "\n",
    "xc = np.array(train.x)\n",
    "yc = np.array(train.dcoilwtico)\n",
    "\n",
    "myLR = LinearRegression()\n",
    "myLR.fit(xc.reshape(len(xc),1), yc.reshape(len(yc),1))\n",
    "# Print the intercept and the coifficient of the model\n",
    "a0 = myLR.intercept_[0]\n",
    "a1 = myLR.coef_[0][0]\n",
    "new_list = list()\n",
    "xi = np.max(train.x) + 1\n",
    "for item in test.date:\n",
    "    yi = a0 + a1 * xi \n",
    "    new_list.append(yi)\n",
    "    xi += 1\n",
    "new_list"
   ]
  },
  {
   "cell_type": "markdown",
   "metadata": {},
   "source": [
    "### Evaluation"
   ]
  },
  {
   "cell_type": "code",
   "execution_count": null,
   "metadata": {},
   "outputs": [],
   "source": [
    "# Mean absolute error\n",
    "MAE = np.mean(abs(new_list - test.dcoilwtico)) # computing the mean squared error\n",
    "MAE"
   ]
  },
  {
   "cell_type": "code",
   "execution_count": null,
   "metadata": {},
   "outputs": [],
   "source": [
    "# Mean squared error\n",
    "MSE = np.mean((new_list - test.dcoilwtico)**2) # computing the mean squared error\n",
    "MSE"
   ]
  },
  {
   "cell_type": "code",
   "execution_count": null,
   "metadata": {},
   "outputs": [],
   "source": [
    "# Sum of squared error\n",
    "SSE = np.sum((new_list - test.dcoilwtico)**2) # computing the sum squared error\n",
    "SSE"
   ]
  },
  {
   "cell_type": "code",
   "execution_count": null,
   "metadata": {},
   "outputs": [],
   "source": [
    "# R-Square\n",
    "from sklearn.metrics import r2_score\n",
    "r2 = r2_score(test.dcoilwtico, new_list)\n",
    "r2"
   ]
  }
 ],
 "metadata": {
  "kernelspec": {
   "display_name": "Python 3",
   "language": "python",
   "name": "python3"
  },
  "language_info": {
   "codemirror_mode": {
    "name": "ipython",
    "version": 3
   },
   "file_extension": ".py",
   "mimetype": "text/x-python",
   "name": "python",
   "nbconvert_exporter": "python",
   "pygments_lexer": "ipython3",
   "version": "3.9.1"
  }
 },
 "nbformat": 4,
 "nbformat_minor": 4
}
