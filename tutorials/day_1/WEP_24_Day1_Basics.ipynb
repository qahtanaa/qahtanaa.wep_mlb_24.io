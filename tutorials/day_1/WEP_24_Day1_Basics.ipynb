{
 "cells": [
  {
   "cell_type": "markdown",
   "metadata": {},
   "source": [
    "# WEP24-MLB: The Basics of Programming in Python\n",
    "\n",
    "## Basic concepts\n",
    "\n",
    "### Basic data types and operators\n",
    "\n",
    "\n",
    "Declaring a variable can be done by assigning a value to that variable directly. \n",
    "Python will select the best data type for the variable depending on the data. \n"
   ]
  },
  {
   "cell_type": "code",
   "execution_count": null,
   "metadata": {},
   "outputs": [],
   "source": [
    "'''\n",
    "TODO: define a variable to hold the value 12 and print the value and \n",
    "the type of the variable\n",
    "'''\n"
   ]
  },
  {
   "cell_type": "code",
   "execution_count": null,
   "metadata": {},
   "outputs": [],
   "source": [
    "'''\n",
    "TODO: define a variable to hold the value 3.14 and print the value and \n",
    "the type of the variable\n",
    "'''\n"
   ]
  },
  {
   "cell_type": "code",
   "execution_count": null,
   "metadata": {},
   "outputs": [],
   "source": [
    "'''\n",
    "TODO: define a variable to hold the value \"ML for Beginners\" and \n",
    "print the value and the type of the variable\n",
    "'''\n"
   ]
  },
  {
   "cell_type": "code",
   "execution_count": null,
   "metadata": {},
   "outputs": [],
   "source": [
    "import math\n",
    "'''\n",
    "TODO: perform mathematical operations on some values, using the operators \n",
    "+, -, *, /, %, **\n",
    "You may also try the function floor or ceil \n",
    "'''\n"
   ]
  },
  {
   "cell_type": "code",
   "execution_count": null,
   "metadata": {},
   "outputs": [],
   "source": [
    "'''\n",
    "TODO: can you add a number and string? \n",
    "'''\n",
    "x = 2\n",
    "course = 'MLB'\n"
   ]
  },
  {
   "cell_type": "code",
   "execution_count": null,
   "metadata": {},
   "outputs": [],
   "source": [
    "'''\n",
    "TODO: start by converting the number to string \n",
    "'''\n",
    "x = str(2)\n",
    "course = 'MLB'\n"
   ]
  },
  {
   "cell_type": "code",
   "execution_count": null,
   "metadata": {},
   "outputs": [],
   "source": [
    "# what about % operation \n"
   ]
  },
  {
   "cell_type": "code",
   "execution_count": null,
   "metadata": {},
   "outputs": [],
   "source": [
    "'''\n",
    "TODO: initialize multiple variable in single statement\n",
    "'''\n"
   ]
  },
  {
   "cell_type": "code",
   "execution_count": null,
   "metadata": {},
   "outputs": [],
   "source": [
    "'''\n",
    "TODO: try accessing the value of a variable that hasn't been initialized \n",
    "(e.g. print(CEMSE))\n",
    "'''\n",
    "print(CEMSE)"
   ]
  },
  {
   "cell_type": "code",
   "execution_count": null,
   "metadata": {},
   "outputs": [],
   "source": [
    "'''\n",
    "TODO: now, assign a value to CEMSE before printing it\n",
    "'''\n"
   ]
  },
  {
   "cell_type": "markdown",
   "metadata": {},
   "source": [
    "### Compound data types\n",
    "When we have records with multiple values, we can use compound data types such as \n",
    "arrays, lists, sets, tuples, and dictionaries "
   ]
  },
  {
   "cell_type": "code",
   "execution_count": null,
   "metadata": {},
   "outputs": [],
   "source": [
    "''' TODO: define a variable to hold the information of a student using Lists.\n",
    "The information include:\n",
    "name = 'Erik Smulders'\n",
    "ID = 12345\n",
    "dept_name = 'Physics'\n",
    "tot_credits = 24\n",
    "'''\n",
    "\n",
    "\n",
    "# Print the content and the type of the variable  \n"
   ]
  },
  {
   "cell_type": "code",
   "execution_count": null,
   "metadata": {},
   "outputs": [],
   "source": [
    "''' TODO: define a variable to hold the information of a student using Tuples.\n",
    "The information include:\n",
    "name = 'Erik Smulders'\n",
    "ID = 12345\n",
    "dept_name = 'Physics'\n",
    "tot_credits = 24\n",
    "'''\n",
    "\n",
    "\n",
    "# Print the content and the type of the variable  \n"
   ]
  },
  {
   "cell_type": "code",
   "execution_count": null,
   "metadata": {},
   "outputs": [],
   "source": [
    "''' TODO: define a variable to hold the information of a student using Sets.\n",
    "The information include:\n",
    "name = 'Erik Smulders'\n",
    "ID = 12345\n",
    "dept_name = 'Physics'\n",
    "tot_credits = 24\n",
    "'''\n",
    "\n",
    "\n",
    "# Print the content and the type of the variable  \n"
   ]
  },
  {
   "cell_type": "markdown",
   "metadata": {},
   "source": [
    "**Exercise:** To see the difference between `Lists`, `Sets` and `Tuples`, \n",
    "use each data type to store the following record where you have the same value \n",
    "for the age and the tot_credits.\n"
   ]
  },
  {
   "cell_type": "code",
   "execution_count": null,
   "metadata": {},
   "outputs": [],
   "source": [
    "''' TODO: define a variable to hold the information of a student using List, \n",
    "Tuple and Set. This time add the age field:\n",
    "name = 'Erik Smulders'\n",
    "ID = 12345\n",
    "dept_name = 'Physics'\n",
    "age = 24\n",
    "tot_credits = 24\n",
    "'''\n",
    "\n",
    "\n",
    "# Print the content and the type of the variable. Do you see anything strange\n"
   ]
  },
  {
   "cell_type": "code",
   "execution_count": null,
   "metadata": {},
   "outputs": [],
   "source": [
    "''' TODO: what if I would like to give names to the values \n",
    "'name':'Erik Smulders'\n",
    "'id':12345\n",
    "'dept':'Physics'\n",
    "'credits':24\n",
    "'''\n",
    "\n",
    "s = ?'name':'Erik Smulders', 'id':12345, 'dept':'Physics', 'credits':24?\n"
   ]
  },
  {
   "cell_type": "code",
   "execution_count": null,
   "metadata": {},
   "outputs": [],
   "source": [
    "''' \n",
    "TODO: can we use an array to store the same information?\n",
    "e.g. use ['Erik Smulders', 12345, 'Physics', 24] as an array. \n",
    "Can you tell what happened in this case? \n",
    "'''\n"
   ]
  },
  {
   "cell_type": "code",
   "execution_count": null,
   "metadata": {},
   "outputs": [],
   "source": [
    "'''\n",
    "TODO: use the code in the slides to decare a 2D array \n",
    "_2d = np.array ([[1, 2, 3], [4, 5, 6]])\n",
    "'''\n",
    "import numpy as np\n"
   ]
  },
  {
   "cell_type": "code",
   "execution_count": null,
   "metadata": {},
   "outputs": [],
   "source": [
    "# TODO: Test the code and comment on the output\n",
    "mat1 = np.matrix ([[1, 2, 3], [4, 5, 6]])\n",
    "mat2 = np.matrix ('1, 2, 3; 4, 5, 6')\n",
    "mat1, mat2"
   ]
  },
  {
   "cell_type": "code",
   "execution_count": null,
   "metadata": {},
   "outputs": [],
   "source": [
    "'''\n",
    "TODO: compute statistical quantities of interest \n",
    "(mean, standard deviation and median) of the values in the array:\n",
    "a = np.array ([1, 2, 3, 4, 5, 6])\n",
    "'''\n"
   ]
  },
  {
   "cell_type": "markdown",
   "metadata": {},
   "source": [
    "### Conditions \n",
    "\n",
    "Conditions can be used to run a specific code when the condition is evaluated to TRUE"
   ]
  },
  {
   "cell_type": "code",
   "execution_count": null,
   "metadata": {},
   "outputs": [],
   "source": [
    "# Using conditions: check if x and y have the same value\n",
    "x = 2\n",
    "y = 3\n"
   ]
  },
  {
   "cell_type": "code",
   "execution_count": null,
   "metadata": {},
   "outputs": [],
   "source": [
    "'''\n",
    "TODO: check if the value of x is 2 and print 'two'. \n",
    "If x is different, print 'different number' \n",
    "(pay attention to the indentation in the code)\n",
    "'''\n"
   ]
  },
  {
   "cell_type": "markdown",
   "metadata": {},
   "source": [
    "#### Loops\n",
    "Loops allow to run piece of code multiple times without the need to rewrite the code"
   ]
  },
  {
   "cell_type": "code",
   "execution_count": null,
   "metadata": {},
   "outputs": [],
   "source": [
    "'''\n",
    "TODO: use loop to print each field in the student's info on a separate line\n",
    "'''\n"
   ]
  },
  {
   "cell_type": "code",
   "execution_count": null,
   "metadata": {},
   "outputs": [],
   "source": [
    "'''\n",
    "TODO: Can you do the same using the dictionary \n",
    "'''\n",
    "student = {'name':'Erik Smulders', 'id':12345, 'dept':'Physics', 'credits':24}\n",
    "for key in student.keys():\n",
    "    print(key, ' = ', student[key])"
   ]
  },
  {
   "cell_type": "code",
   "execution_count": null,
   "metadata": {},
   "outputs": [],
   "source": [
    "# TODO: Can you do the same using the items() function of dictionary?\n",
    "\n"
   ]
  },
  {
   "cell_type": "code",
   "execution_count": null,
   "metadata": {},
   "outputs": [],
   "source": [
    "# TODO: what about using inline for loop?\n",
    "\n"
   ]
  },
  {
   "cell_type": "markdown",
   "metadata": {},
   "source": [
    "## Pandas DataFrames\n",
    "\n",
    "### Creating DataFrames\n",
    "\n",
    "We start by importing the necessary libraries\n"
   ]
  },
  {
   "cell_type": "code",
   "execution_count": null,
   "metadata": {},
   "outputs": [],
   "source": [
    "import pandas as pd\n",
    "import csv"
   ]
  },
  {
   "cell_type": "code",
   "execution_count": null,
   "metadata": {},
   "outputs": [],
   "source": [
    "# creating a dataframe from pandas series\n",
    "data = {'State': ['Ohio', 'Ohio', 'Ohio', 'Nevada', 'Nevada', 'Nevada'],\n",
    " 'Year': [2000, 2001, 2002, 2001, 2002, 2003],\n",
    " 'Population': [1.5, 1.7, 3.6, 2.4, 2.9, 3.2]}\n",
    "df1 = pd.DataFrame(data)\n",
    "df1"
   ]
  },
  {
   "cell_type": "code",
   "execution_count": null,
   "metadata": {},
   "outputs": [],
   "source": [
    "# creating a dataframe from data List of Lists\n",
    "data = [['Ohio', 2000, 1.5], ['Ohio', 2001, 1.7], ['Ohio', 2002, 3.6],\n",
    "        ['Nevada', 2001, 2.4],['Nevada', 2002, 2.9], ['Nevada', 2003, 3.2]]\n",
    "cols = ['State', 'Year', 'Population']\n",
    "df2 = pd.DataFrame(data, columns = cols)\n",
    "df2"
   ]
  },
  {
   "cell_type": "code",
   "execution_count": null,
   "metadata": {},
   "outputs": [],
   "source": [
    "# creating a dataframe using data stored in a csv file\n",
    "\n",
    "df3 = pd.read_csv(filepath_or_buffer = 'sample_data/california_housing_train.csv', \n",
    "                  delimiter=',', doublequote=True, quotechar='\"',\n",
    "                  na_values = ['na', '-', '.', ''], quoting=csv.QUOTE_ALL, \n",
    "                  encoding = \"ISO-8859-1\")\n",
    "df3"
   ]
  },
  {
   "cell_type": "markdown",
   "metadata": {},
   "source": [
    "### DataFrames: Extracting parts and displaying statistics"
   ]
  },
  {
   "cell_type": "code",
   "execution_count": null,
   "metadata": {},
   "outputs": [],
   "source": [
    "# TODO: display the first row (record) of the table in the dataframe df2\n"
   ]
  },
  {
   "cell_type": "code",
   "execution_count": null,
   "metadata": {},
   "outputs": [],
   "source": [
    "# TODO: print the number of columns and the number of rows in df2\n",
    "\n"
   ]
  },
  {
   "cell_type": "code",
   "execution_count": null,
   "metadata": {},
   "outputs": [],
   "source": [
    "# TODO: print the names of the columns of the df2\n"
   ]
  },
  {
   "cell_type": "code",
   "execution_count": null,
   "metadata": {},
   "outputs": [],
   "source": [
    "# TODO: access the column 'State' of df2 in two different ways\n"
   ]
  },
  {
   "cell_type": "markdown",
   "metadata": {},
   "source": [
    "For the next exercises, use df3"
   ]
  },
  {
   "cell_type": "code",
   "execution_count": null,
   "metadata": {},
   "outputs": [],
   "source": [
    "# TODO: print the number of columns and the number of rows in df3\n"
   ]
  },
  {
   "cell_type": "code",
   "execution_count": null,
   "metadata": {},
   "outputs": [],
   "source": [
    "# TODO: Display the index and the the data types of the columns in the dataframe\n"
   ]
  },
  {
   "cell_type": "code",
   "execution_count": null,
   "metadata": {},
   "outputs": [],
   "source": [
    "# TODO: disply the first n rows from the dataframe\n",
    "n = 5\n"
   ]
  },
  {
   "cell_type": "code",
   "execution_count": null,
   "metadata": {},
   "outputs": [],
   "source": [
    "# TODO: disply the last n rows from the dataframe\n",
    "n = 5\n"
   ]
  },
  {
   "cell_type": "code",
   "execution_count": null,
   "metadata": {},
   "outputs": [],
   "source": [
    "# TODO: display the rows 2:5 of the dataframe\n"
   ]
  },
  {
   "cell_type": "code",
   "execution_count": null,
   "metadata": {},
   "outputs": [],
   "source": [
    "# TODO: display the columns 2:5 of the dataframe\n"
   ]
  },
  {
   "cell_type": "code",
   "execution_count": null,
   "metadata": {},
   "outputs": [],
   "source": [
    "# TODO: display the records when 'total_rooms' is greater than or equal to 10000\n"
   ]
  },
  {
   "cell_type": "code",
   "execution_count": null,
   "metadata": {},
   "outputs": [],
   "source": [
    "'''\n",
    "TODO: display the columns 'total_bedrooms', 'population', and 'median_income'\n",
    "for the buildings with 'total_rooms' greater than or equal to 10000\n",
    "'''\n"
   ]
  },
  {
   "cell_type": "code",
   "execution_count": null,
   "metadata": {},
   "outputs": [],
   "source": [
    "'''\n",
    "TODO: display the number of unique values in column 'housing_median_age'\n",
    "'''\n"
   ]
  },
  {
   "cell_type": "code",
   "execution_count": null,
   "metadata": {},
   "outputs": [],
   "source": [
    "'''\n",
    "TODO: use for loop to print the name and the number of unique values in each column\n",
    "'''\n",
    "\n"
   ]
  },
  {
   "cell_type": "markdown",
   "metadata": {},
   "source": [
    "#### checking the data type of each column "
   ]
  },
  {
   "cell_type": "code",
   "execution_count": null,
   "metadata": {},
   "outputs": [],
   "source": [
    "# TODO: display the type of each column\n",
    "\n"
   ]
  },
  {
   "cell_type": "code",
   "execution_count": null,
   "metadata": {},
   "outputs": [],
   "source": [
    "'''\n",
    "TODO: print the min, max, average and standard deviation of \n",
    "the attributes with numerical values\n",
    "'''\n",
    "\n",
    "\n"
   ]
  },
  {
   "cell_type": "markdown",
   "metadata": {},
   "source": [
    "# Visualization"
   ]
  },
  {
   "cell_type": "code",
   "execution_count": null,
   "metadata": {},
   "outputs": [],
   "source": [
    "# TODO: import the required library\n",
    "import matplotlib.pyplot as plt\n"
   ]
  },
  {
   "cell_type": "markdown",
   "metadata": {},
   "source": [
    "Use:\n",
    "```\n",
    "font_size = 16               # you can use the size that would be readable easily\n",
    "plt.rcParams.update({'font.size': font_size})\n",
    "fig, ax = plt.subplots()\n",
    "```\n",
    "\n",
    "to have bigger and visible font. The `ax` variable can be used for more control options on the figure."
   ]
  },
  {
   "cell_type": "markdown",
   "metadata": {},
   "source": [
    "### Scatter Plot"
   ]
  },
  {
   "cell_type": "code",
   "execution_count": null,
   "metadata": {},
   "outputs": [],
   "source": [
    "'''\n",
    "TODO: plot the 'total_rooms' on the x-axis and \n",
    "'total_bedrooms' on the y-axis as scatter plot\n",
    "'''\n",
    "font_size = 16               # you can use the size that would be readable easily\n",
    "plt.rcParams.update({'font.size': font_size})\n",
    "fig, ax = plt.subplots()\n",
    "\n",
    "xs = df3.total_rooms\n",
    "ys = df3.total_bedrooms\n"
   ]
  },
  {
   "cell_type": "markdown",
   "metadata": {},
   "source": [
    "### Line Plot"
   ]
  },
  {
   "cell_type": "code",
   "execution_count": null,
   "metadata": {},
   "outputs": [],
   "source": [
    "# TODO: plot the fowllowing variables with thick red line\n",
    "xs = [-5,-4,-3,-2,-1,0,1,2,3,4,5]\n",
    "ys = [x**2 for x in xs]\n",
    "\n",
    "\n"
   ]
  },
  {
   "cell_type": "markdown",
   "metadata": {},
   "source": [
    "### Bar Plot"
   ]
  },
  {
   "cell_type": "code",
   "execution_count": null,
   "metadata": {},
   "outputs": [],
   "source": [
    "'''\n",
    "TODO: plot the following variables as bars and change the color of each bar\n",
    "Save your plot as pdf \n",
    "'''\n",
    "xs = [1, 2, 3, 4, 5]\n",
    "ys = [3, 2, 4, 2, 8]\n"
   ]
  },
  {
   "cell_type": "markdown",
   "metadata": {},
   "source": [
    "**Exercise:** Try the code in the slides to plot the following data as Pie Chart"
   ]
  },
  {
   "cell_type": "code",
   "execution_count": null,
   "metadata": {},
   "outputs": [],
   "source": [
    "xs = ['AMCS', 'CS', 'EE', 'B', 'CBRC']\n",
    "ys = [10, 25, 55, 15, 5]\n"
   ]
  }
 ],
 "metadata": {
  "kernelspec": {
   "display_name": "Python 3",
   "language": "python",
   "name": "python3"
  },
  "language_info": {
   "codemirror_mode": {
    "name": "ipython",
    "version": 3
   },
   "file_extension": ".py",
   "mimetype": "text/x-python",
   "name": "python",
   "nbconvert_exporter": "python",
   "pygments_lexer": "ipython3",
   "version": "3.9.1"
  }
 },
 "nbformat": 4,
 "nbformat_minor": 4
}
