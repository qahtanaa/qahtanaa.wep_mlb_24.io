{
 "cells": [
  {
   "cell_type": "markdown",
   "metadata": {},
   "source": [
    "# WEP24-MLB: The Basics of Programming in Python\n",
    "\n",
    "## Basic concepts\n",
    "\n",
    "### Basic data types and operators\n",
    "\n",
    "\n",
    "Declaring a variable can be done by assigning a value to that variable directly. \n",
    "Python will select the best data type for the variable depending on the data. \n"
   ]
  },
  {
   "cell_type": "code",
   "execution_count": null,
   "metadata": {},
   "outputs": [],
   "source": [
    "'''\n",
    "TODO: define a variable to hold the value 12 and print the value and \n",
    "the type of the variable\n",
    "'''\n",
    "x = 11\n",
    "x, type(x)"
   ]
  },
  {
   "cell_type": "code",
   "execution_count": null,
   "metadata": {},
   "outputs": [],
   "source": [
    "'''\n",
    "TODO: define a variable to hold the value 3.14 and print the value and \n",
    "the type of the variable\n",
    "'''\n",
    "pi = 3.14\n",
    "pi, type(pi)"
   ]
  },
  {
   "cell_type": "code",
   "execution_count": null,
   "metadata": {},
   "outputs": [],
   "source": [
    "'''\n",
    "TODO: define a variable to hold the value \"ML for Beginners\" and \n",
    "print the value and the type of the variable\n",
    "'''\n",
    "y = 'ML for Beginners'\n",
    "y, type(y)"
   ]
  },
  {
   "cell_type": "code",
   "execution_count": null,
   "metadata": {},
   "outputs": [],
   "source": [
    "import math\n",
    "'''\n",
    "TODO: perform mathematical operations on some values, using the operators \n",
    "+, -, *, /, %, **\n",
    "You may also try the function floor or ceil \n",
    "'''\n",
    "\n",
    "w = 3\n",
    "z = x / w \n",
    "f = math.floor(4.8)\n",
    "c = math.ceil(4.2)\n",
    "print ('z = ', z)\n",
    "# We can display a few decimal places only using the round function\n",
    "print ('z = ', round(z, 2))\n",
    "print ('floor(4.8) = ', f)\n",
    "print ('ceiling(4.2) = ', c)\n",
    "\n",
    "# ** is the operator to find the power e.g. 2**3 = 2*2*2 = 8\n",
    "print('2 to the power 5 is: ', 2 ** 5)"
   ]
  },
  {
   "cell_type": "code",
   "execution_count": null,
   "metadata": {},
   "outputs": [],
   "source": [
    "'''\n",
    "TODO: can you add a number and string? \n",
    "'''\n",
    "code = 101\n",
    "course = 'MLB'\n",
    "course + code     # This will give an error"
   ]
  },
  {
   "cell_type": "code",
   "execution_count": null,
   "metadata": {},
   "outputs": [],
   "source": [
    "'''\n",
    "TODO: start by converting the number to string \n",
    "'''\n",
    "code = str(101)\n",
    "course = 'MLB'\n",
    "course + code"
   ]
  },
  {
   "cell_type": "code",
   "execution_count": null,
   "metadata": {},
   "outputs": [],
   "source": [
    "# what about % operation \n",
    "3 % 5, 5 % 3             # % operator computes the reminder of the division"
   ]
  },
  {
   "cell_type": "code",
   "execution_count": null,
   "metadata": {},
   "outputs": [],
   "source": [
    "'''\n",
    "TODO: initialize multiple variable in single statement\n",
    "'''\n",
    "x , y, w = 2, 5, 8\n",
    "print(x , y , w)\n",
    "x, y = y, x\n",
    "print(x , y , w)"
   ]
  },
  {
   "cell_type": "code",
   "execution_count": null,
   "metadata": {},
   "outputs": [],
   "source": [
    "'''\n",
    "TODO: try accessing the value of a variable that hasn't been initialized \n",
    "(e.g. print(CEMSE))\n",
    "'''\n",
    "print(CEMSE)"
   ]
  },
  {
   "cell_type": "code",
   "execution_count": null,
   "metadata": {},
   "outputs": [],
   "source": [
    "'''\n",
    "TODO: now, assign a value to CEMSE before printing it\n",
    "'''\n",
    "CEMSE = 'Computer, Electrical and Mathematical Sciences and Engineering Division'\n",
    "print(CEMSE)"
   ]
  },
  {
   "cell_type": "markdown",
   "metadata": {},
   "source": [
    "### Compound data types\n",
    "When we have records with multiple values, we can use compound data types such as \n",
    "arrays, lists, sets, tuples, and dictionaries "
   ]
  },
  {
   "cell_type": "code",
   "execution_count": null,
   "metadata": {},
   "outputs": [],
   "source": [
    "''' TODO: define a variable to hold the information of a student using Lists.\n",
    "The information include:\n",
    "name = 'Erik Smulders'\n",
    "ID = 12345\n",
    "dept_name = 'Physics'\n",
    "tot_credits = 24\n",
    "'''\n",
    "mylist = ['Erik Smulders', 12345, 'Physics', 24]\n",
    "# Print the content and the type of the variable  \n",
    "mylist, type(mylist)"
   ]
  },
  {
   "cell_type": "code",
   "execution_count": null,
   "metadata": {},
   "outputs": [],
   "source": [
    "''' TODO: define a variable to hold the information of a student using Tuples.\n",
    "The information include:\n",
    "name = 'Erik Smulders'\n",
    "ID = 12345\n",
    "dept_name = 'Physics'\n",
    "tot_credits = 24\n",
    "'''\n",
    "t = ('Erik Smulders', 12345, 'Physics', 24)\n",
    "# Print the content and the type of the variable  \n",
    "t, type(t)"
   ]
  },
  {
   "cell_type": "code",
   "execution_count": null,
   "metadata": {},
   "outputs": [],
   "source": [
    "''' TODO: define a variable to hold the information of a student using Sets.\n",
    "The information include:\n",
    "name = 'Erik Smulders'\n",
    "ID = 12345\n",
    "dept_name = 'Physics'\n",
    "tot_credits = 24\n",
    "'''\n",
    "s = {'Erik Smulders', 12345, 'Physics', 24}\n",
    "# Print the content and the type of the variable  \n",
    "s, type(s)"
   ]
  },
  {
   "cell_type": "markdown",
   "metadata": {},
   "source": [
    "**Exercise:** To see the difference between `Lists`, `Sets` and `Tuples`, \n",
    "use each data type to store the following record where you have the same value \n",
    "for the age and the tot_credits.\n"
   ]
  },
  {
   "cell_type": "code",
   "execution_count": null,
   "metadata": {},
   "outputs": [],
   "source": [
    "''' TODO: define a variable to hold the information of a student using List, \n",
    "Tuple and Set. This time add the age field:\n",
    "name = 'Erik Smulders'\n",
    "ID = 12345\n",
    "dept_name = 'Physics'\n",
    "age = 24\n",
    "tot_credits = 24\n",
    "'''\n",
    "nl = ['Erik Smulders', 12345, 'Physics', 24, 24]\n",
    "nt = ('Erik Smulders', 12345, 'Physics', 24, 24)\n",
    "ns = {'Erik Smulders', 12345, 'Physics', 24, 24}\n",
    "# Print the content and the type of the variable. Do you see anything strange\n",
    "print(nl)\n",
    "print(nt)\n",
    "print(ns)"
   ]
  },
  {
   "cell_type": "code",
   "execution_count": null,
   "metadata": {},
   "outputs": [],
   "source": [
    "''' TODO: what if I would like to give names to the values \n",
    "'name':'Erik Smulders'\n",
    "'id':12345\n",
    "'dept':'Physics'\n",
    "'credits':24\n",
    "'''\n",
    "s = {'name':'Erik Smulders', 'id':12345, 'dept':'Physics', 'credits':24}\n",
    "s, type(s)"
   ]
  },
  {
   "cell_type": "code",
   "execution_count": null,
   "metadata": {},
   "outputs": [],
   "source": [
    "''' \n",
    "TODO: can we use an array to store the same information?\n",
    "e.g. use ['Erik Smulders', 12345, 'Physics', 24] as an array. \n",
    "Can you tell what happened in this case? \n",
    "'''\n",
    "import numpy as np\n",
    "ar = np.array(['Erik Smulders', 12345, 'Physics', 24])\n",
    "ar, type(ar)"
   ]
  },
  {
   "cell_type": "markdown",
   "metadata": {},
   "source": [
    "all the fields are having the same type (string)"
   ]
  },
  {
   "cell_type": "code",
   "execution_count": null,
   "metadata": {},
   "outputs": [],
   "source": [
    "'''\n",
    "TODO: use the code in the slides to decare a 2D array \n",
    "_2d = np.array ([[1, 2, 3], [4, 5, 6]])\n",
    "'''\n",
    "_2d = np.array ([[1, 2, 3], [4, 5, 6]])\n",
    "_2d"
   ]
  },
  {
   "cell_type": "code",
   "execution_count": null,
   "metadata": {},
   "outputs": [],
   "source": [
    "# TODO: Test the following code and comment on the output\n",
    "mat1 = np.matrix ([[1, 2, 3], [4, 5, 6]])\n",
    "mat2 = np.matrix ('1, 2, 3; 4, 5, 6')\n",
    "mat1, mat2"
   ]
  },
  {
   "cell_type": "code",
   "execution_count": null,
   "metadata": {},
   "outputs": [],
   "source": [
    "'''\n",
    "TODO: compute statistical quantities of interest \n",
    "(mean, standard deviation and median) of the values in the array:\n",
    "a = np.array ([1, 2, 3, 4, 5, 6])\n",
    "'''\n",
    "a = np.array ([1, 2, 3, 4, 5, 6])\n",
    "print(a.mean(), round(a.std(), 2), np.median(a), a.min(), a.max())\n",
    "print(np.mean(a), round(np.std(a), 2), np.median(a), np.min(a), np.max(a))"
   ]
  },
  {
   "cell_type": "markdown",
   "metadata": {},
   "source": [
    "### Conditions \n",
    "\n",
    "Conditions can be used to run a specific code when the condition is evaluated to TRUE"
   ]
  },
  {
   "cell_type": "code",
   "execution_count": null,
   "metadata": {},
   "outputs": [],
   "source": [
    "# Using conditions: check if x and y have the same value\n",
    "x = 2\n",
    "y = 3\n",
    "x == y"
   ]
  },
  {
   "cell_type": "code",
   "execution_count": null,
   "metadata": {},
   "outputs": [],
   "source": [
    "'''\n",
    "TODO: check if the value of x is 2 and print 'two'. \n",
    "If x is different, print 'different number' \n",
    "(pay attention to the indentation in the code)\n",
    "'''\n",
    "if x == 2:\n",
    "  print('two')\n",
    "else:\n",
    "  print('different number')"
   ]
  },
  {
   "cell_type": "markdown",
   "metadata": {},
   "source": [
    "#### Loops\n",
    "Loops allow to run piece of code multiple times without the need to rewrite the code"
   ]
  },
  {
   "cell_type": "code",
   "execution_count": null,
   "metadata": {},
   "outputs": [],
   "source": [
    "'''\n",
    "TODO: use loop to print each field in the student's info on a separate line\n",
    "'''\n",
    "student = ['Erik Smulders', 12345, 'Physics', 24, 24]\n",
    "for item in student:\n",
    "    print(item)"
   ]
  },
  {
   "cell_type": "code",
   "execution_count": null,
   "metadata": {},
   "outputs": [],
   "source": [
    "'''\n",
    "TODO: Can you do the same using the dictionary? \n",
    "'''\n",
    "student = {'name':'Erik Smulders', 'id':12345, 'dept':'Physics', 'credits':24}\n",
    "for key in student.keys():\n",
    "    print(key, ' = ', student[key])"
   ]
  },
  {
   "cell_type": "code",
   "execution_count": null,
   "metadata": {},
   "outputs": [],
   "source": [
    "# TODO: Can you do the same using the items() function of dictionary?\n",
    "student = {'name':'Erik Smulders', 'id':12345, 'dept':'Physics', 'credits':24}\n",
    "for key, value in student.items():\n",
    "    print(key, ' = ', value)"
   ]
  },
  {
   "cell_type": "code",
   "execution_count": null,
   "metadata": {},
   "outputs": [],
   "source": [
    "# TODO: what about using inline for loop?\n",
    "[student[key] for key in student.keys()]\n"
   ]
  },
  {
   "cell_type": "markdown",
   "metadata": {},
   "source": [
    "## Pandas DataFrames\n",
    "\n",
    "### Creating DataFrames\n",
    "\n",
    "We start by importing the necessary libraries\n"
   ]
  },
  {
   "cell_type": "code",
   "execution_count": null,
   "metadata": {},
   "outputs": [],
   "source": [
    "import pandas as pd\n",
    "import csv"
   ]
  },
  {
   "cell_type": "code",
   "execution_count": null,
   "metadata": {},
   "outputs": [],
   "source": [
    "# creating a dataframe from pandas series\n",
    "data = {'State': ['Ohio', 'Ohio', 'Ohio', 'Nevada', 'Nevada', 'Nevada'],\n",
    " 'Year': [2000, 2001, 2002, 2001, 2002, 2003],\n",
    " 'Population': [1.5, 1.7, 3.6, 2.4, 2.9, 3.2]}\n",
    "df1 = pd.DataFrame(data)\n",
    "df1"
   ]
  },
  {
   "cell_type": "code",
   "execution_count": null,
   "metadata": {},
   "outputs": [],
   "source": [
    "# creating a dataframe from data List of Lists\n",
    "data = [['Ohio', 2000, 1.5], ['Ohio', 2001, 1.7], ['Ohio', 2002, 3.6],\n",
    "        ['Nevada', 2001, 2.4],['Nevada', 2002, 2.9], ['Nevada', 2003, 3.2]]\n",
    "cols = ['State', 'Year', 'Population']\n",
    "df2 = pd.DataFrame(data, columns = cols)\n",
    "df2"
   ]
  },
  {
   "cell_type": "code",
   "execution_count": null,
   "metadata": {},
   "outputs": [],
   "source": [
    "# creating a dataframe using data stored in a csv file\n",
    "\n",
    "df3 = pd.read_csv(filepath_or_buffer = 'california_housing_train.csv', \n",
    "                  delimiter=',', doublequote=True, quotechar='\"',\n",
    "                  na_values = ['na', '-', '.', ''], quoting=csv.QUOTE_ALL, \n",
    "                  encoding = \"ISO-8859-1\")\n",
    "df3"
   ]
  },
  {
   "cell_type": "markdown",
   "metadata": {},
   "source": [
    "### DataFrames: Extracting parts and displaying statistics"
   ]
  },
  {
   "cell_type": "code",
   "execution_count": null,
   "metadata": {},
   "outputs": [],
   "source": [
    "# TODO: display the first row (record) of the table in the dataframe df2\n",
    "df2.loc[0]"
   ]
  },
  {
   "cell_type": "code",
   "execution_count": null,
   "metadata": {},
   "outputs": [],
   "source": [
    "# TODO: print the number of columns and the number of rows in df2\n",
    "print('number of columns = ', len(df2.columns))\n",
    "print('number of rows = ', len(df2))"
   ]
  },
  {
   "cell_type": "code",
   "execution_count": null,
   "metadata": {},
   "outputs": [],
   "source": [
    "# TODO: print the names of the columns of the df2\n",
    "df2.columns"
   ]
  },
  {
   "cell_type": "code",
   "execution_count": null,
   "metadata": {},
   "outputs": [],
   "source": [
    "# TODO: access the column 'State' of df2 in two different ways\n",
    "df2.State"
   ]
  },
  {
   "cell_type": "code",
   "execution_count": null,
   "metadata": {},
   "outputs": [],
   "source": [
    "df2['State']"
   ]
  },
  {
   "cell_type": "markdown",
   "metadata": {},
   "source": [
    "For the next exercises, use df3"
   ]
  },
  {
   "cell_type": "code",
   "execution_count": null,
   "metadata": {},
   "outputs": [],
   "source": [
    "# TODO: print the number of columns and the number of rows in df3\n",
    "len(df3.columns), len(df3)"
   ]
  },
  {
   "cell_type": "code",
   "execution_count": null,
   "metadata": {},
   "outputs": [],
   "source": [
    "# TODO: Display the index and the data types of the columns in the dataframe\n",
    "df3.info()"
   ]
  },
  {
   "cell_type": "code",
   "execution_count": null,
   "metadata": {},
   "outputs": [],
   "source": [
    "# TODO: disply the first n rows from the dataframe\n",
    "n = 5\n",
    "df3.head(n)"
   ]
  },
  {
   "cell_type": "code",
   "execution_count": null,
   "metadata": {},
   "outputs": [],
   "source": [
    "# TODO: disply the last n rows from the dataframe\n",
    "n = 5\n",
    "df3.tail(n)"
   ]
  },
  {
   "cell_type": "code",
   "execution_count": null,
   "metadata": {},
   "outputs": [],
   "source": [
    "# TODO: display the rows 2:5 of the dataframe\n",
    "df3.loc[2:5,]"
   ]
  },
  {
   "cell_type": "code",
   "execution_count": null,
   "metadata": {},
   "outputs": [],
   "source": [
    "# TODO: display the columns 2:5 of the dataframe\n",
    "df3.iloc[:,2:5]"
   ]
  },
  {
   "cell_type": "code",
   "execution_count": null,
   "metadata": {},
   "outputs": [],
   "source": [
    "# TODO: display the records when 'total_rooms' is greater than or equal to 10000\n",
    "df3.loc[(df3['total_rooms'] >= 10000)]"
   ]
  },
  {
   "cell_type": "code",
   "execution_count": null,
   "metadata": {},
   "outputs": [],
   "source": [
    "'''\n",
    "TODO: display the columns 'total_bedrooms', 'population', and 'median_income'\n",
    "for the buildings with 'total_rooms' greater than or equal to 10000\n",
    "'''\n",
    "df3.loc[(df3['total_rooms'] >= 10000), ['total_bedrooms', 'population', 'median_income']]"
   ]
  },
  {
   "cell_type": "code",
   "execution_count": null,
   "metadata": {},
   "outputs": [],
   "source": [
    "'''\n",
    "TODO: display the number of unique values in column 'housing_median_age'\n",
    "'''\n",
    "df3.housing_median_age.unique()"
   ]
  },
  {
   "cell_type": "code",
   "execution_count": null,
   "metadata": {},
   "outputs": [],
   "source": [
    "'''\n",
    "TODO: use for loop to print the name and the number of unique values in each column\n",
    "'''\n",
    "for col in df3.columns:\n",
    "    print(col, ' has ', len(df3[col].unique()), ' unique values')"
   ]
  },
  {
   "cell_type": "markdown",
   "metadata": {},
   "source": [
    "#### checking the data type of each column "
   ]
  },
  {
   "cell_type": "code",
   "execution_count": null,
   "metadata": {},
   "outputs": [],
   "source": [
    "# TODO: display the type of each column\n",
    "df3.dtypes"
   ]
  },
  {
   "cell_type": "code",
   "execution_count": null,
   "metadata": {},
   "outputs": [],
   "source": [
    "'''\n",
    "TODO: print the min, max, average and standard deviation of \n",
    "the attributes with numerical values\n",
    "'''\n",
    "for col in df3.columns:\n",
    "    if not (df3.dtypes[col] == 'object'):\n",
    "        print(col, df3[col].min(), df3[col].max(), \n",
    "              round(df3[col].mean(), 2), round(df3[col].std(), 2))"
   ]
  },
  {
   "cell_type": "markdown",
   "metadata": {},
   "source": [
    "# Visualization"
   ]
  },
  {
   "cell_type": "code",
   "execution_count": null,
   "metadata": {},
   "outputs": [],
   "source": [
    "# TODO: import the required library\n",
    "import matplotlib.pyplot as plt\n"
   ]
  },
  {
   "cell_type": "markdown",
   "metadata": {},
   "source": [
    "Use:\n",
    "```\n",
    "font_size = 16               # you can use the size that would be readable easily\n",
    "plt.rcParams.update({'font.size': font_size})\n",
    "fig, ax = plt.subplots()\n",
    "```\n",
    "\n",
    "to have bigger and visible font. The `ax` variable can be used for more control options on the figure."
   ]
  },
  {
   "cell_type": "markdown",
   "metadata": {},
   "source": [
    "### Scatter Plot"
   ]
  },
  {
   "cell_type": "code",
   "execution_count": null,
   "metadata": {},
   "outputs": [],
   "source": [
    "'''\n",
    "TODO: plot the 'total_rooms' on the x-axis and \n",
    "'total_bedrooms' on the y-axis as scatter plot\n",
    "'''\n",
    "font_size = 16               # you can use the size that would be readable easily\n",
    "plt.rcParams.update({'font.size': font_size})\n",
    "fig, ax = plt.subplots()\n",
    "\n",
    "xs = df3.total_rooms\n",
    "ys = df3.total_bedrooms\n",
    "\n",
    "plt.scatter(xs, ys)\n",
    "plt.show()"
   ]
  },
  {
   "cell_type": "markdown",
   "metadata": {},
   "source": [
    "### Line Plot"
   ]
  },
  {
   "cell_type": "code",
   "execution_count": null,
   "metadata": {},
   "outputs": [],
   "source": [
    "# TODO: plot the fowllowing variables with thick red line\n",
    "xs = [-5,-4,-3,-2,-1,0,1,2,3,4,5]\n",
    "ys = [x**2 for x in xs]\n",
    "\n",
    "plt.plot(xs, ys, linewidth = 5, color = 'r')\n",
    "plt.xlabel('x')\n",
    "plt.ylabel('y')\n",
    "plt.show()"
   ]
  },
  {
   "cell_type": "markdown",
   "metadata": {},
   "source": [
    "### Bar Plot"
   ]
  },
  {
   "cell_type": "code",
   "execution_count": null,
   "metadata": {},
   "outputs": [],
   "source": [
    "'''\n",
    "TODO: plot the following variables as bars and change the color of each bar\n",
    "Save your plot as pdf \n",
    "'''\n",
    "xs = [1, 2, 3, 4, 5]\n",
    "ys = [3, 2, 4, 2, 8]\n",
    "\n",
    "colors = ['b', 'k', 'r', 'g', 'c']\n",
    "plt.bar(xs, ys, color = colors, edgecolor = \"black\")\n",
    "plt.savefig('barPlot.pdf', bbox_inches = 'tight')\n",
    "plt.show()"
   ]
  },
  {
   "cell_type": "markdown",
   "metadata": {},
   "source": [
    "**Exercise:** Try the code in the slides to plot the following data as Pie Chart\n",
    "\n",
    "### Pie Chart"
   ]
  },
  {
   "cell_type": "code",
   "execution_count": null,
   "metadata": {},
   "outputs": [],
   "source": [
    "xs = ['AMCS', 'CS', 'EE', 'B', 'CBRC']\n",
    "ys = [10, 25, 55, 15, 5]\n",
    "\n",
    "plt.pie(ys, labels = xs, autopct='%1.1f%%')\n",
    "plt.savefig('pieChart.pdf', bbox_inches = 'tight')\n",
    "plt.show()"
   ]
  },
  {
   "cell_type": "markdown",
   "metadata": {},
   "source": [
    "### The exercise from the slides"
   ]
  },
  {
   "cell_type": "code",
   "execution_count": null,
   "metadata": {},
   "outputs": [],
   "source": [
    "fig, ax = plt.subplots(figsize=(6,6))\n",
    "\n",
    "major = ['AMCS', 'CS', 'ECE', 'STAT']  \n",
    "# create data\n",
    "x = np.arange(4)\n",
    "Master = [45, 75, 34, 22]\n",
    "PhD = [25, 33, 72, 10]\n",
    "width = 0.40\n",
    "  \n",
    "# plot data in grouped manner of bar type\n",
    "bar1 = plt.bar(x-0.2, Master, width, color = 'b', label = 'Master')\n",
    "bar2 = plt.bar(x+0.2, PhD, width, color = 'g', label = 'PhD')\n",
    "plt.xticks(x, major)\n",
    "ax.legend(handles = [bar1, bar2])\n",
    "plt.show()"
   ]
  },
  {
   "cell_type": "code",
   "execution_count": null,
   "metadata": {},
   "outputs": [],
   "source": [
    "fig, ax = plt.subplots(figsize=(6,6))\n",
    "\n",
    "# create data\n",
    "x = np.arange(2)\n",
    "width = 0.40\n",
    "AMCS = [45, 25]\n",
    "CS = [75, 33]\n",
    "ECE = [34, 72]\n",
    "STAT = [22, 10]\n",
    "\n",
    "# plot data in grouped manner of bar type\n",
    "width = 0.2\n",
    "degree = ['Master', 'PhD']  \n",
    "\n",
    "# plot data in grouped manner of bar type\n",
    "bar1 = plt.bar(x-0.3, AMCS, width, color = 'b', label = 'AMCS')\n",
    "bar2 = plt.bar(x-0.1, CS, width, color = 'g', label = 'CS')\n",
    "bar3 = plt.bar(x+0.1, ECE, width, color = 'r', label = 'ECE')\n",
    "bar4 = plt.bar(x+0.3, ECE, width, color = 'c', label = 'STAT')\n",
    "plt.xticks(x, degree)\n",
    "ax.legend(handles = [bar1, bar2, bar3, bar4])\n",
    "plt.show()"
   ]
  }
 ],
 "metadata": {
  "kernelspec": {
   "display_name": "Python 3",
   "language": "python",
   "name": "python3"
  },
  "language_info": {
   "codemirror_mode": {
    "name": "ipython",
    "version": 3
   },
   "file_extension": ".py",
   "mimetype": "text/x-python",
   "name": "python",
   "nbconvert_exporter": "python",
   "pygments_lexer": "ipython3",
   "version": "3.9.1"
  }
 },
 "nbformat": 4,
 "nbformat_minor": 4
}
