{
 "cells": [
  {
   "cell_type": "markdown",
   "metadata": {
    "id": "3tODECaK8TZB"
   },
   "source": [
    "# WEP24-MLB: Clustering\n",
    "\n",
    "In this lecture, we will learn about clustering techniques and how to evaluate and compare the techniques."
   ]
  },
  {
   "cell_type": "markdown",
   "metadata": {
    "id": "h4mzb3zmDxne"
   },
   "source": [
    "## Clustering Techniques"
   ]
  },
  {
   "cell_type": "markdown",
   "metadata": {
    "id": "JFqqDY9dDxnh"
   },
   "source": [
    "### K-Means"
   ]
  },
  {
   "cell_type": "markdown",
   "metadata": {
    "id": "qszE6JGFDxnh"
   },
   "source": [
    "The scikit-learn library has an implementation of the k-means algorithm. Let's apply it to a set of randomly generated blobs. The generated dataset is labeled but we will remove the labels as clustering is unsupervised technique."
   ]
  },
  {
   "cell_type": "code",
   "execution_count": null,
   "metadata": {
    "id": "M8csmEjrDxnj"
   },
   "outputs": [],
   "source": [
    "import numpy as np\n",
    "import matplotlib.pyplot as plt\n",
    "%matplotlib inline"
   ]
  },
  {
   "cell_type": "code",
   "execution_count": null,
   "metadata": {
    "id": "nQuRcP5NDxnl"
   },
   "outputs": [],
   "source": [
    "'''\n",
    "We generate a sample data using sklearn library\n",
    "'''\n",
    "from sklearn.datasets import make_blobs\n",
    "X,y = make_blobs(centers=4, n_samples=200, cluster_std=0.7)"
   ]
  },
  {
   "cell_type": "code",
   "execution_count": null,
   "metadata": {
    "colab": {
     "base_uri": "https://localhost:8080/"
    },
    "executionInfo": {
     "elapsed": 199,
     "status": "ok",
     "timestamp": 1642574889307,
     "user": {
      "displayName": "Abdulhakim Qahtan",
      "photoUrl": "https://lh3.googleusercontent.com/a-/AOh14GhKGH_ruE3oitWLKHS4BOT7DYseeSnTHTqzO0SCMw=s64",
      "userId": "11205961928557001277"
     },
     "user_tz": -60
    },
    "id": "5oUbeZi-Fnaj",
    "outputId": "6e4f5e15-0b19-442b-f0a7-56f675c78c1f"
   },
   "outputs": [],
   "source": [
    "type(X)"
   ]
  },
  {
   "cell_type": "code",
   "execution_count": null,
   "metadata": {
    "colab": {
     "base_uri": "https://localhost:8080/"
    },
    "executionInfo": {
     "elapsed": 220,
     "status": "ok",
     "timestamp": 1642574854419,
     "user": {
      "displayName": "Abdulhakim Qahtan",
      "photoUrl": "https://lh3.googleusercontent.com/a-/AOh14GhKGH_ruE3oitWLKHS4BOT7DYseeSnTHTqzO0SCMw=s64",
      "userId": "11205961928557001277"
     },
     "user_tz": -60
    },
    "id": "tYKMJnCB8TZd",
    "outputId": "7227e3a4-ba83-4af6-dc41-a7eb0d7ed070"
   },
   "outputs": [],
   "source": [
    "'''\n",
    "TODO: display the values of the dataset\n",
    "'''\n",
    "print(X[:10])"
   ]
  },
  {
   "cell_type": "markdown",
   "metadata": {
    "id": "wrWLl1t6Dxnm"
   },
   "source": [
    "Now we plot these points, but without coloring the points using the labels:"
   ]
  },
  {
   "cell_type": "code",
   "execution_count": null,
   "metadata": {
    "colab": {
     "base_uri": "https://localhost:8080/",
     "height": 282
    },
    "executionInfo": {
     "elapsed": 545,
     "status": "ok",
     "timestamp": 1642574971928,
     "user": {
      "displayName": "Abdulhakim Qahtan",
      "photoUrl": "https://lh3.googleusercontent.com/a-/AOh14GhKGH_ruE3oitWLKHS4BOT7DYseeSnTHTqzO0SCMw=s64",
      "userId": "11205961928557001277"
     },
     "user_tz": -60
    },
    "id": "MUXLIGV5Dxnm",
    "outputId": "9969595d-1be4-4500-82a7-c007c501729d"
   },
   "outputs": [],
   "source": [
    "'''\n",
    "TODO: use scatter plot to plot the data in X (y represents the labels only)\n",
    "'''\n",
    "plt.scatter(X[:,0], X[:,1])"
   ]
  },
  {
   "cell_type": "markdown",
   "metadata": {
    "id": "wgROuKMHDxnn"
   },
   "source": [
    "We can see four clusters in the data set. Let's see if the k-means algorithm can recognize these clusters. First we create the instance of the k-means model and pass the number of clusters (4) as a parameter."
   ]
  },
  {
   "cell_type": "markdown",
   "metadata": {
    "id": "xDlZ2shu8TZx"
   },
   "source": [
    "More information about using KMeans can be found [here](https://scikit-learn.org/stable/modules/generated/sklearn.cluster.KMeans.html)"
   ]
  },
  {
   "cell_type": "code",
   "execution_count": null,
   "metadata": {
    "id": "OZETArc3Dxno"
   },
   "outputs": [],
   "source": [
    "'''\n",
    "TODO: import the KMeans from its library ... \n",
    "'''\n",
    "from sklearn.cluster import KMeans\n",
    "model = KMeans(4)\n",
    "'''\n",
    "TODO: train the model to find the clusters\n",
    "'''\n",
    "model = model.fit(X)\n"
   ]
  },
  {
   "cell_type": "code",
   "execution_count": null,
   "metadata": {
    "colab": {
     "base_uri": "https://localhost:8080/"
    },
    "executionInfo": {
     "elapsed": 219,
     "status": "ok",
     "timestamp": 1642575257716,
     "user": {
      "displayName": "Abdulhakim Qahtan",
      "photoUrl": "https://lh3.googleusercontent.com/a-/AOh14GhKGH_ruE3oitWLKHS4BOT7DYseeSnTHTqzO0SCMw=s64",
      "userId": "11205961928557001277"
     },
     "user_tz": -60
    },
    "id": "2AHQYXZo8TZ1",
    "outputId": "6c6ec6d5-6541-4921-e49a-3b5b56519421"
   },
   "outputs": [],
   "source": [
    "'''\n",
    "Now, we can print the centers of the clusters\n",
    "'''\n",
    "print(model.cluster_centers_)"
   ]
  },
  {
   "cell_type": "code",
   "execution_count": null,
   "metadata": {
    "colab": {
     "base_uri": "https://localhost:8080/",
     "height": 265
    },
    "executionInfo": {
     "elapsed": 730,
     "status": "ok",
     "timestamp": 1642575259454,
     "user": {
      "displayName": "Abdulhakim Qahtan",
      "photoUrl": "https://lh3.googleusercontent.com/a-/AOh14GhKGH_ruE3oitWLKHS4BOT7DYseeSnTHTqzO0SCMw=s64",
      "userId": "11205961928557001277"
     },
     "user_tz": -60
    },
    "id": "jcZA6CmQDxno",
    "outputId": "a2410766-9aaf-423c-b267-61e9952b273f"
   },
   "outputs": [],
   "source": [
    "'''\n",
    "We can also plot the data (using scatter plot) with color code based on the clusters\n",
    "'''\n",
    "plt.scatter(X[:,0], X[:,1], c = model.labels_);\n",
    "plt.scatter(model.cluster_centers_[:,0], model.cluster_centers_[:,1], \n",
    "            s=100, color=\"red\"); # Show the centres"
   ]
  },
  {
   "cell_type": "markdown",
   "metadata": {
    "id": "fNh-WMM0Dxnp"
   },
   "source": [
    "The clustering looks good."
   ]
  },
  {
   "cell_type": "markdown",
   "metadata": {
    "id": "nOsTWWMpDxns"
   },
   "source": [
    "#### Another Example"
   ]
  },
  {
   "cell_type": "markdown",
   "metadata": {
    "id": "rmM9JTBLDxns"
   },
   "source": [
    "The k-means algorithm can have difficulties when the clusters are not convex in shape:"
   ]
  },
  {
   "cell_type": "code",
   "execution_count": null,
   "metadata": {
    "id": "ocQhAr9pDxns"
   },
   "outputs": [],
   "source": [
    "from sklearn.datasets import make_moons\n",
    "X,y = make_moons(200, noise=0.05)"
   ]
  },
  {
   "cell_type": "code",
   "execution_count": null,
   "metadata": {
    "colab": {
     "base_uri": "https://localhost:8080/",
     "height": 265
    },
    "executionInfo": {
     "elapsed": 262,
     "status": "ok",
     "timestamp": 1642575287205,
     "user": {
      "displayName": "Abdulhakim Qahtan",
      "photoUrl": "https://lh3.googleusercontent.com/a-/AOh14GhKGH_ruE3oitWLKHS4BOT7DYseeSnTHTqzO0SCMw=s64",
      "userId": "11205961928557001277"
     },
     "user_tz": -60
    },
    "id": "qDkToDpYDxns",
    "outputId": "be957ab6-86c1-4b22-eabd-41017ecc3282"
   },
   "outputs": [],
   "source": [
    "plt.scatter(X[:,0], X[:,1]);"
   ]
  },
  {
   "cell_type": "code",
   "execution_count": null,
   "metadata": {
    "colab": {
     "base_uri": "https://localhost:8080/",
     "height": 265
    },
    "executionInfo": {
     "elapsed": 379,
     "status": "ok",
     "timestamp": 1642575499432,
     "user": {
      "displayName": "Abdulhakim Qahtan",
      "photoUrl": "https://lh3.googleusercontent.com/a-/AOh14GhKGH_ruE3oitWLKHS4BOT7DYseeSnTHTqzO0SCMw=s64",
      "userId": "11205961928557001277"
     },
     "user_tz": -60
    },
    "id": "qLZPuc-XDxnt",
    "outputId": "14f8fcec-d77c-42a7-c5c4-0952555479ea"
   },
   "outputs": [],
   "source": [
    "'''\n",
    "TODO: use k-means to cluster the data into two cluster\n",
    "'''\n",
    "mdl = KMeans(n_clusters = 2)\n",
    "mdl.fit(X)\n",
    "plt.scatter(X[:,0], X[:,1], c = mdl.labels_);\n",
    "plt.scatter(mdl.cluster_centers_[:,0], mdl.cluster_centers_[:,1], s=100, color=\"red\"); # Show the centres"
   ]
  },
  {
   "cell_type": "markdown",
   "metadata": {
    "id": "oiUtAR25Dxnt"
   },
   "source": [
    "The clustering does not work well now, since it is not possible to separate the two clusters with a line. We could embed this data set into a higher dimensional space, where the separation is possible. And then apply the k-means clustering."
   ]
  },
  {
   "cell_type": "markdown",
   "metadata": {
    "id": "5pD3DcCJDxnt"
   },
   "source": [
    "Alternatively, we can use a different type of clustering algorithm for this case. The *DBSCAN algorithm* is based on densities and works well on data whose density in the clusters is uniform."
   ]
  },
  {
   "cell_type": "markdown",
   "metadata": {
    "id": "D2FmdVqdO-ot"
   },
   "source": [
    "## DBSCAN"
   ]
  },
  {
   "cell_type": "code",
   "execution_count": null,
   "metadata": {
    "id": "Dzeybc_W8TgC"
   },
   "outputs": [],
   "source": [
    "from sklearn.cluster import DBSCAN"
   ]
  },
  {
   "cell_type": "code",
   "execution_count": null,
   "metadata": {
    "colab": {
     "base_uri": "https://localhost:8080/",
     "height": 282
    },
    "executionInfo": {
     "elapsed": 741,
     "status": "ok",
     "timestamp": 1642577353733,
     "user": {
      "displayName": "Abdulhakim Qahtan",
      "photoUrl": "https://lh3.googleusercontent.com/a-/AOh14GhKGH_ruE3oitWLKHS4BOT7DYseeSnTHTqzO0SCMw=s64",
      "userId": "11205961928557001277"
     },
     "user_tz": -60
    },
    "id": "nLRG1eSDDxnt",
    "outputId": "2ed9434d-4753-404d-cd16-5796e4542321"
   },
   "outputs": [],
   "source": [
    "'''\n",
    "TODO: regenerate another instance of the blobs dataset and plot it as a scatter plot\n",
    "'''\n",
    "X,y = make_blobs(centers=4, n_samples=200, cluster_std=0.7)\n",
    "plt.scatter(X[:,0], X[:,1])"
   ]
  },
  {
   "cell_type": "code",
   "execution_count": null,
   "metadata": {
    "colab": {
     "base_uri": "https://localhost:8080/",
     "height": 265
    },
    "executionInfo": {
     "elapsed": 723,
     "status": "ok",
     "timestamp": 1642577928690,
     "user": {
      "displayName": "Abdulhakim Qahtan",
      "photoUrl": "https://lh3.googleusercontent.com/a-/AOh14GhKGH_ruE3oitWLKHS4BOT7DYseeSnTHTqzO0SCMw=s64",
      "userId": "11205961928557001277"
     },
     "user_tz": -60
    },
    "id": "AJNRamSKPNNP",
    "outputId": "1afe487f-9bc9-4757-e26e-bbffd59f2f59"
   },
   "outputs": [],
   "source": [
    "'''\n",
    "TODO: use DBSCAN to cluster the blobs dataset \n",
    "    (play with the algorithm parameters and check the quality of the clusters)\n",
    "'''\n",
    "mdl = DBSCAN(eps = 0.8, min_samples = 8)\n",
    "mdl.fit(X)\n",
    "plt.scatter(X[:,0], X[:,1], c = mdl.labels_);"
   ]
  },
  {
   "cell_type": "code",
   "execution_count": null,
   "metadata": {
    "colab": {
     "base_uri": "https://localhost:8080/",
     "height": 282
    },
    "executionInfo": {
     "elapsed": 746,
     "status": "ok",
     "timestamp": 1642577451309,
     "user": {
      "displayName": "Abdulhakim Qahtan",
      "photoUrl": "https://lh3.googleusercontent.com/a-/AOh14GhKGH_ruE3oitWLKHS4BOT7DYseeSnTHTqzO0SCMw=s64",
      "userId": "11205961928557001277"
     },
     "user_tz": -60
    },
    "id": "OiSDJJO58TgE",
    "outputId": "af3501ac-6eae-4ee5-ae01-329c3725658f"
   },
   "outputs": [],
   "source": [
    "'''\n",
    "TODO: regenerate another instance of the two moons dataset and plot it as a scatter plot\n",
    "'''\n",
    "X,y = make_moons(200, noise=0.05)\n",
    "plt.scatter(X[:,0], X[:,1])"
   ]
  },
  {
   "cell_type": "code",
   "execution_count": null,
   "metadata": {
    "colab": {
     "base_uri": "https://localhost:8080/",
     "height": 265
    },
    "executionInfo": {
     "elapsed": 678,
     "status": "ok",
     "timestamp": 1642577477905,
     "user": {
      "displayName": "Abdulhakim Qahtan",
      "photoUrl": "https://lh3.googleusercontent.com/a-/AOh14GhKGH_ruE3oitWLKHS4BOT7DYseeSnTHTqzO0SCMw=s64",
      "userId": "11205961928557001277"
     },
     "user_tz": -60
    },
    "id": "F1oP5j6YPorN",
    "outputId": "aed92923-4e12-4c47-8673-a68735975b0d"
   },
   "outputs": [],
   "source": [
    "'''\n",
    "TODO: use DBSCAN to cluster the two moons dataset \n",
    "    (play with the algorithm parameters and check the quality of the clusters)\n",
    "'''\n",
    "mdl = DBSCAN(eps = 0.3, min_samples = 8)\n",
    "mdl.fit(X)\n",
    "plt.scatter(X[:,0], X[:,1], c = mdl.labels_);"
   ]
  },
  {
   "cell_type": "markdown",
   "metadata": {
    "id": "rvxVI249Dxnw"
   },
   "source": [
    "## 1.3. Hierarchical clustering\n"
   ]
  },
  {
   "cell_type": "code",
   "execution_count": null,
   "metadata": {
    "id": "orZy9HAa8TgG"
   },
   "outputs": [],
   "source": [
    "from sklearn.cluster import AgglomerativeClustering"
   ]
  },
  {
   "cell_type": "code",
   "execution_count": null,
   "metadata": {
    "colab": {
     "base_uri": "https://localhost:8080/",
     "height": 282
    },
    "executionInfo": {
     "elapsed": 479,
     "status": "ok",
     "timestamp": 1642577877569,
     "user": {
      "displayName": "Abdulhakim Qahtan",
      "photoUrl": "https://lh3.googleusercontent.com/a-/AOh14GhKGH_ruE3oitWLKHS4BOT7DYseeSnTHTqzO0SCMw=s64",
      "userId": "11205961928557001277"
     },
     "user_tz": -60
    },
    "id": "Wp12WBnnRIia",
    "outputId": "80128731-ef02-4d87-e648-5176345190a7"
   },
   "outputs": [],
   "source": [
    "'''\n",
    "TODO: regenerate another instance of the blobs dataset and plot it as a scatter plot\n",
    "'''\n",
    "X,y = make_blobs(centers=4, n_samples=200, cluster_std=0.7)\n",
    "plt.scatter(X[:,0], X[:,1])"
   ]
  },
  {
   "cell_type": "code",
   "execution_count": null,
   "metadata": {
    "colab": {
     "base_uri": "https://localhost:8080/",
     "height": 265
    },
    "executionInfo": {
     "elapsed": 641,
     "status": "ok",
     "timestamp": 1642577910054,
     "user": {
      "displayName": "Abdulhakim Qahtan",
      "photoUrl": "https://lh3.googleusercontent.com/a-/AOh14GhKGH_ruE3oitWLKHS4BOT7DYseeSnTHTqzO0SCMw=s64",
      "userId": "11205961928557001277"
     },
     "user_tz": -60
    },
    "id": "FguAJZsi8TgH",
    "outputId": "e36362e5-f5a8-4763-c80e-2516815ef4f2"
   },
   "outputs": [],
   "source": [
    "'''\n",
    "TODO: use Hierarchical clustering to cluster the blobs dataset \n",
    "'''\n",
    "hier_mdl = AgglomerativeClustering(n_clusters = 4)\n",
    "hier_mdl.fit(X)\n",
    "plt.scatter(X[:,0], X[:,1], c=hier_mdl.labels_);"
   ]
  },
  {
   "cell_type": "code",
   "execution_count": null,
   "metadata": {
    "colab": {
     "base_uri": "https://localhost:8080/",
     "height": 265
    },
    "executionInfo": {
     "elapsed": 601,
     "status": "ok",
     "timestamp": 1642577986409,
     "user": {
      "displayName": "Abdulhakim Qahtan",
      "photoUrl": "https://lh3.googleusercontent.com/a-/AOh14GhKGH_ruE3oitWLKHS4BOT7DYseeSnTHTqzO0SCMw=s64",
      "userId": "11205961928557001277"
     },
     "user_tz": -60
    },
    "id": "j2VSTdUk8TgH",
    "outputId": "3ad7cee0-944f-4ea7-adb5-d9bfa763d019"
   },
   "outputs": [],
   "source": [
    "'''\n",
    "TODO: use Hierarchical clustering to cluster the two moons dataset \n",
    "'''\n",
    "X,y = make_moons(200, noise=0.05)\n",
    "hier_mdl = AgglomerativeClustering(n_clusters = 2)\n",
    "hier_mdl.fit(X)\n",
    "plt.scatter(X[:,0], X[:,1], c=hier_mdl.labels_);"
   ]
  },
  {
   "cell_type": "markdown",
   "metadata": {
    "id": "6TYzh9YG8TgJ"
   },
   "source": [
    "## Spectral clustering"
   ]
  },
  {
   "cell_type": "code",
   "execution_count": null,
   "metadata": {
    "id": "oa-TTfSy8TgK"
   },
   "outputs": [],
   "source": [
    "from sklearn.cluster import SpectralClustering"
   ]
  },
  {
   "cell_type": "code",
   "execution_count": null,
   "metadata": {
    "colab": {
     "base_uri": "https://localhost:8080/",
     "height": 320
    },
    "executionInfo": {
     "elapsed": 737,
     "status": "ok",
     "timestamp": 1642578284302,
     "user": {
      "displayName": "Abdulhakim Qahtan",
      "photoUrl": "https://lh3.googleusercontent.com/a-/AOh14GhKGH_ruE3oitWLKHS4BOT7DYseeSnTHTqzO0SCMw=s64",
      "userId": "11205961928557001277"
     },
     "user_tz": -60
    },
    "id": "ByZROHLD8TgK",
    "outputId": "94759fae-6e8e-4928-97c0-cfe3393fd76a"
   },
   "outputs": [],
   "source": [
    "'''\n",
    "TODO: use Spectral clustering to cluster the blobs dataset \n",
    "'''\n",
    "X,y = make_blobs(centers=4, n_samples=200, cluster_std=0.7)\n",
    "\n",
    "mdl = SpectralClustering(n_clusters = 4, \n",
    "                                      affinity=\"nearest_neighbors\")\n",
    "mdl.fit(X)\n",
    "plt.scatter(X[:,0], X[:,1], c = mdl.labels_);"
   ]
  },
  {
   "cell_type": "code",
   "execution_count": null,
   "metadata": {
    "colab": {
     "base_uri": "https://localhost:8080/",
     "height": 320
    },
    "executionInfo": {
     "elapsed": 652,
     "status": "ok",
     "timestamp": 1642578366706,
     "user": {
      "displayName": "Abdulhakim Qahtan",
      "photoUrl": "https://lh3.googleusercontent.com/a-/AOh14GhKGH_ruE3oitWLKHS4BOT7DYseeSnTHTqzO0SCMw=s64",
      "userId": "11205961928557001277"
     },
     "user_tz": -60
    },
    "id": "FPYnY-HP8TgK",
    "outputId": "1e23f13b-4201-4367-8695-00d43f2b004f"
   },
   "outputs": [],
   "source": [
    "'''\n",
    "TODO: use Spectral clustering to cluster the two moons dataset \n",
    "'''\n",
    "X,y = make_moons(200, noise=0.05)\n",
    "mdl = SpectralClustering(n_clusters=2, \n",
    "                                      affinity=\"nearest_neighbors\")\n",
    "mdl.fit(X)\n",
    "plt.scatter(X[:,0], X[:,1], c = mdl.labels_);"
   ]
  },
  {
   "cell_type": "markdown",
   "metadata": {
    "id": "_u5EpVil8TgM"
   },
   "source": [
    "## Clustering Evaluation"
   ]
  },
  {
   "cell_type": "code",
   "execution_count": null,
   "metadata": {
    "id": "oYYcqLd-8TgM"
   },
   "outputs": [],
   "source": [
    "'''\n",
    "TODO: use a clustering technique to cluster the blobs dataset \n",
    "'''\n",
    "X,y = make_blobs(centers=4, n_samples=200, cluster_std=0.7)\n",
    "clf = KMeans(4)"
   ]
  },
  {
   "cell_type": "code",
   "execution_count": null,
   "metadata": {
    "colab": {
     "base_uri": "https://localhost:8080/"
    },
    "executionInfo": {
     "elapsed": 55,
     "status": "ok",
     "timestamp": 1642578621480,
     "user": {
      "displayName": "Abdulhakim Qahtan",
      "photoUrl": "https://lh3.googleusercontent.com/a-/AOh14GhKGH_ruE3oitWLKHS4BOT7DYseeSnTHTqzO0SCMw=s64",
      "userId": "11205961928557001277"
     },
     "user_tz": -60
    },
    "id": "uST2jFCq8TgN",
    "outputId": "101887fd-129b-480f-b4c3-5cfa43fde217"
   },
   "outputs": [],
   "source": [
    "from sklearn import metrics\n",
    "\n",
    "\n",
    "clf.fit(X)                              #run the k-means clustering\n",
    "\n",
    "print ('Final evaluation of the clustering:')\n",
    "\n",
    "print('Inertia: %.2f' %  clf.inertia_)\n",
    "\n",
    "print('Adjusted_rand_score %.2f' % metrics.adjusted_rand_score(y.ravel(), \n",
    "                                                               clf.labels_))\n",
    "\n",
    "print('Homogeneity %.2f' %  metrics.homogeneity_score(y.ravel(), \n",
    "                                                      clf.labels_))\n",
    "\n",
    "print('Completeness %.2f' %  metrics.completeness_score(y.ravel(), \n",
    "                                                        clf.labels_))\n",
    "             \n",
    "print('V_measure %.2f' %  metrics.v_measure_score(y.ravel(), clf.labels_))\n",
    "\n",
    "print('Silhouette %.2f' %  metrics.silhouette_score(X, clf.labels_,  \n",
    "                                                    metric='euclidean'))"
   ]
  },
  {
   "cell_type": "code",
   "execution_count": null,
   "metadata": {
    "id": "-lYW1G5bUK_2"
   },
   "outputs": [],
   "source": []
  }
 ],
 "metadata": {
  "colab": {
   "provenance": []
  },
  "kernelspec": {
   "display_name": "Python 3",
   "language": "python",
   "name": "python3"
  },
  "language_info": {
   "codemirror_mode": {
    "name": "ipython",
    "version": 3
   },
   "file_extension": ".py",
   "mimetype": "text/x-python",
   "name": "python",
   "nbconvert_exporter": "python",
   "pygments_lexer": "ipython3",
   "version": "3.9.1"
  },
  "varInspector": {
   "cols": {
    "lenName": 16,
    "lenType": 16,
    "lenVar": 40
   },
   "kernels_config": {
    "python": {
     "delete_cmd_postfix": "",
     "delete_cmd_prefix": "del ",
     "library": "var_list.py",
     "varRefreshCmd": "print(var_dic_list())"
    },
    "r": {
     "delete_cmd_postfix": ") ",
     "delete_cmd_prefix": "rm(",
     "library": "var_list.r",
     "varRefreshCmd": "cat(var_dic_list()) "
    }
   },
   "types_to_exclude": [
    "module",
    "function",
    "builtin_function_or_method",
    "instance",
    "_Feature"
   ],
   "window_display": false
  }
 },
 "nbformat": 4,
 "nbformat_minor": 1
}
